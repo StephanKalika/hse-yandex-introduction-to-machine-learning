{
 "cells": [
  {
   "cell_type": "markdown",
   "metadata": {},
   "source": [
    "#  Метрики качества классификации\n",
    "\n",
    "#### Вы научитесь:\n",
    "- вычислять различные меры качества классификации: долю правильных ответов, точность, полноту, AUC-ROC и т.д.\n",
    "- сравнивать алгоритмы классификации при наличии ограничений на точность или полноту\n",
    "\n",
    "#### Введение\n",
    "\n",
    "В задачах классификации может быть много особенностей, влияющих на подсчет качества: различные цены ошибок, несбалансированность классов и т.д. Из-за этого существует большое количество метрик качества — каждая из них рассчитана на определенное сочетание свойств задачи и требований к ее решению.\n",
    "\n",
    "Меры качества классификации можно разбить на две большие группы: предназначенные для алгоритмов, выдающих номера классов, и для алгоритмов, выдающих оценки принадлежности к классам. К первой группе относятся доля правильных ответов, точность, полнота, F-мера. Ко второй — площади под ROC- или PR-кривой.\n",
    "\n",
    "#### Реализация в sklearn\n",
    "\n",
    "Различные метрики качества реализованы в пакете sklearn.metrics."
   ]
  },
  {
   "cell_type": "code",
   "execution_count": 51,
   "metadata": {},
   "outputs": [],
   "source": [
    "import pandas as pd\n",
    "from sklearn import metrics\n",
    "from sklearn.metrics import accuracy_score\n",
    "from sklearn.metrics import precision_score\n",
    "from sklearn.metrics import recall_score\n",
    "from sklearn.metrics import f1_score\n",
    "from sklearn.metrics import roc_auc_score\n",
    "from sklearn.metrics import precision_recall_curve"
   ]
  },
  {
   "cell_type": "code",
   "execution_count": 36,
   "metadata": {},
   "outputs": [],
   "source": [
    "def answer(filename='3-3.txt', *answer):\n",
    "    file = open(filename, 'w')\n",
    "    ans = ''\n",
    "    for i in answer:\n",
    "        ans += str(i) + ' '\n",
    "    ans = ans[:-1]\n",
    "    file.write(ans)\n",
    "    file.close()\n",
    "\n",
    "def show(*names):\n",
    "    for n in names:\n",
    "        print(n + ': ' + str(eval(n)))"
   ]
  },
  {
   "cell_type": "markdown",
   "metadata": {},
   "source": [
    "# 1\n",
    "Загрузите файл classification.csv. В нем записаны истинные классы объектов выборки (колонка true) и ответы некоторого классификатора (колонка pred)."
   ]
  },
  {
   "cell_type": "code",
   "execution_count": 28,
   "metadata": {},
   "outputs": [
    {
     "name": "stdout",
     "output_type": "stream",
     "text": [
      "Index(['true', 'pred'], dtype='object')\n",
      "   true  pred\n",
      "0     1     0\n",
      "1     1     1\n",
      "2     1     1\n",
      "3     0     0\n",
      "4     1     1\n"
     ]
    }
   ],
   "source": [
    "data = pd.read_csv('classification.csv')\n",
    "\n",
    "print(data.keys())\n",
    "print(data[:5])"
   ]
  },
  {
   "cell_type": "markdown",
   "metadata": {},
   "source": [
    "# 2\n",
    "Заполните таблицу ошибок классификации. Для этого подсчитайте величины TP, FP, FN и TN согласно их определениям. Например, FP — это количество объектов, имеющих класс 0, но отнесенных алгоритмом к классу 1. Ответ в данном вопросе — четыре числа через пробел."
   ]
  },
  {
   "cell_type": "code",
   "execution_count": 33,
   "metadata": {},
   "outputs": [
    {
     "name": "stdout",
     "output_type": "stream",
     "text": [
      "TP: 43\n",
      "FP: 34\n",
      "FN: 59\n",
      "TN: 64\n"
     ]
    }
   ],
   "source": [
    "TP, FP, FN, TN = (0,) * 4\n",
    "\n",
    "for _, row in data.iterrows():\n",
    "    true = row['true']\n",
    "    predict = row['pred']\n",
    "    \n",
    "    if true == 1 and predict == 1:\n",
    "        TP += 1\n",
    "    elif true == 0 and predict == 1:\n",
    "        FP += 1\n",
    "    elif true == 1 and predict == 0:\n",
    "        FN += 1\n",
    "    else:\n",
    "        TN += 1\n",
    "\n",
    "show('TP', 'FP', 'FN', 'TN')"
   ]
  },
  {
   "cell_type": "code",
   "execution_count": 34,
   "metadata": {},
   "outputs": [
    {
     "name": "stdout",
     "output_type": "stream",
     "text": [
      "TP: 43\n",
      "FP: 34\n",
      "FN: 59\n",
      "TN: 64\n"
     ]
    }
   ],
   "source": [
    "TP = data[(data.pred == 1) & (data.true == 1)].count().get(0)\n",
    "TN = data[(data.pred == 0) & (data.true == 0)].count().get(0)\n",
    "FP = data[(data.pred == 1) & (data.true == 0)].count().get(0)\n",
    "FN = data[(data.pred == 0) & (data.true == 1)].count().get(0)\n",
    "show('TP', 'FP', 'FN', 'TN')\n",
    "answer('3-3-1.txt', TP, FP, FN, TN)"
   ]
  },
  {
   "cell_type": "markdown",
   "metadata": {},
   "source": [
    "# 3\n",
    "Посчитайте основные метрики качества классификатора:\n",
    "\n",
    "- Accuracy (доля верно угаданных) — sklearn.metrics.accuracy_score\n",
    "- Precision (точность) — sklearn.metrics.precision_score\n",
    "- Recall (полнота) — sklearn.metrics.recall_score\n",
    "- F-мера — sklearn.metrics.f1_score\n",
    "\n",
    "В качестве ответа укажите эти четыре числа через пробел."
   ]
  },
  {
   "cell_type": "code",
   "execution_count": 40,
   "metadata": {},
   "outputs": [
    {
     "name": "stdout",
     "output_type": "stream",
     "text": [
      "accuracy: 0.535\n",
      "precision: 0.558441558442\n",
      "recall: 0.421568627451\n",
      "f1: 0.480446927374\n"
     ]
    }
   ],
   "source": [
    "accuracy = accuracy_score(y_true=data.true, y_pred=data.pred)\n",
    "precision = precision_score(data.true, data.pred)\n",
    "recall = recall_score(data.true, data.pred)\n",
    "f1 = f1_score(data.true, data.pred)\n",
    "\n",
    "show('accuracy', 'precision', 'recall', 'f1')\n",
    "answer('3-3-2.txt', accuracy, precision, recall, f1)"
   ]
  },
  {
   "cell_type": "markdown",
   "metadata": {},
   "source": [
    "# 4\n",
    "Имеется четыре обученных классификатора. В файле scores.csv записаны истинные классы и значения степени принадлежности положительному классу для каждого классификатора на некоторой выборке:\n",
    "- для логистической регрессии — вероятность положительного класса (колонка score_logreg),\n",
    "- для SVM — отступ от разделяющей поверхности (колонка score_svm),\n",
    "- для метрического алгоритма — взвешенная сумма классов соседей (колонка score_knn),\n",
    "- для решающего дерева — доля положительных объектов в листе (колонка score_tree).\n",
    "\n",
    "Загрузите этот файл."
   ]
  },
  {
   "cell_type": "code",
   "execution_count": 42,
   "metadata": {},
   "outputs": [
    {
     "name": "stdout",
     "output_type": "stream",
     "text": [
      "Index(['true', 'score_logreg', 'score_svm', 'score_knn', 'score_tree'], dtype='object')\n",
      "   true  score_logreg  score_svm  score_knn  score_tree\n",
      "0     0      0.683832   0.145976   0.787063    0.500000\n",
      "1     1      0.801966   0.239511   1.000000    0.833333\n",
      "2     0      0.382315  -0.245701   0.000000    0.000000\n",
      "3     1      0.506797  -0.137058   0.000000    0.105263\n",
      "4     1      0.488781  -0.154148   0.000000    0.105263\n"
     ]
    }
   ],
   "source": [
    "scores = pd.read_csv('scores.csv')\n",
    "\n",
    "print(scores.keys())\n",
    "print(scores[:5])"
   ]
  },
  {
   "cell_type": "markdown",
   "metadata": {},
   "source": [
    "# 5\n",
    "Посчитайте площадь под ROC-кривой для каждого классификатора. Какой классификатор имеет наибольшее значение метрики AUC-ROC (укажите название столбца)? Воспользуйтесь функцией sklearn.metrics.roc_auc_score."
   ]
  },
  {
   "cell_type": "code",
   "execution_count": 44,
   "metadata": {},
   "outputs": [],
   "source": [
    "def compute_roc_auc_score(y_score):\n",
    "    return roc_auc_score(y_true=scores.true, y_score=y_score)"
   ]
  },
  {
   "cell_type": "code",
   "execution_count": 50,
   "metadata": {},
   "outputs": [
    {
     "name": "stdout",
     "output_type": "stream",
     "text": [
      "Scores:  {'score_knn': 0.63515406162464982, 'score_tree': 0.69192677070828335, 'score_logreg': 0.71918767507002801, 'score_svm': 0.70868347338935567} \n",
      "Max:  score_logreg   0.71918767507\n"
     ]
    }
   ],
   "source": [
    "auc = {score: roc_auc_score(scores.true, scores[score]) for score in scores.keys()[1:]}\n",
    "auc_max = max(auc, key=auc.get)\n",
    "print('Scores: ', auc, '\\nMax: ', auc_max, ' ', auc[auc_max])\n",
    "\n",
    "answer('3-3-3.txt', auc_max)"
   ]
  },
  {
   "cell_type": "markdown",
   "metadata": {},
   "source": [
    "# 6\n",
    "Какой классификатор достигает наибольшей точности (Precision) при полноте (Recall) не менее 70% ?\n",
    "\n",
    "Чтобы получить ответ на этот вопрос, найдите все точки precision-recall-кривой с помощью функции sklearn.metrics.precision_recall_curve. Она возвращает три массива: precision, recall, thresholds. В них записаны точность и полнота при определенных порогах, указанных в массиве thresholds. Найдите максимальной значение точности среди тех записей, для которых полнота не меньше, чем 0.7.\n",
    "\n",
    "Если ответом является нецелое число, то целую и дробную часть необходимо разграничивать точкой, например, 0.42. При необходимости округляйте дробную часть до двух знаков."
   ]
  },
  {
   "cell_type": "code",
   "execution_count": 60,
   "metadata": {},
   "outputs": [
    {
     "name": "stdout",
     "output_type": "stream",
     "text": [
      "{'score_knn': 0.60655737704918034, 'score_tree': 0.6517857142857143, 'score_logreg': 0.63025210084033612, 'score_svm': 0.6228070175438597}\n",
      "score_tree\n"
     ]
    }
   ],
   "source": [
    "curve = {}\n",
    "\n",
    "for score in scores.keys()[1:]:\n",
    "    df = pd.DataFrame(columns=('precision', 'recall'))\n",
    "    df.precision, df.recall, thresholds = precision_recall_curve(scores.true, scores[score])\n",
    "    curve[score] = df[df['recall'] >= 0.7]['precision'].max()\n",
    "    \n",
    "print(curve)\n",
    "\n",
    "best_model = max(curve, key=curve.get)\n",
    "print(best_model)\n",
    "\n",
    "answer('3-3-4.txt', best_model)"
   ]
  },
  {
   "cell_type": "markdown",
   "metadata": {},
   "source": [
    "Наилучшую точность при таком ограничении показывает решающее дерево."
   ]
  }
 ],
 "metadata": {
  "kernelspec": {
   "display_name": "Python 3",
   "language": "python",
   "name": "python3"
  },
  "language_info": {
   "codemirror_mode": {
    "name": "ipython",
    "version": 3
   },
   "file_extension": ".py",
   "mimetype": "text/x-python",
   "name": "python",
   "nbconvert_exporter": "python",
   "pygments_lexer": "ipython3",
   "version": "3.5.4"
  }
 },
 "nbformat": 4,
 "nbformat_minor": 2
}
