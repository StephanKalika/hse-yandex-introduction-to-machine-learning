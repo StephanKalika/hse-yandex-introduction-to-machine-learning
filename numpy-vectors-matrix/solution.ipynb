{
 "cells": [
  {
   "cell_type": "markdown",
   "metadata": {},
   "source": [
    "# Vectors and Matrices in NumPy"
   ]
  },
  {
   "cell_type": "code",
   "execution_count": 1,
   "metadata": {
    "collapsed": true
   },
   "outputs": [],
   "source": [
    "import numpy as np"
   ]
  },
  {
   "cell_type": "markdown",
   "metadata": {},
   "source": [
    "#### Generate random matrix"
   ]
  },
  {
   "cell_type": "code",
   "execution_count": 3,
   "metadata": {},
   "outputs": [
    {
     "data": {
      "text/plain": [
       "array([[ -1.6313075 ,   2.4936644 ,  -5.71146878, ...,  17.62955185,\n",
       "          3.85575482,   7.53977404],\n",
       "       [ -3.36197539,   4.62203952, -12.74105223, ...,   0.15652799,\n",
       "         -4.85064137,   8.68349438],\n",
       "       [ -6.37901342,  -3.35452223, -11.19484687, ...,   7.19205309,\n",
       "        -10.3108685 ,  11.57803623],\n",
       "       ..., \n",
       "       [ 13.83413723,  -4.08969647,  12.0766084 , ...,  -5.9659344 ,\n",
       "          8.53851344,  -8.10049051],\n",
       "       [ -0.20011321,   4.74861268,  12.63280691, ...,  -5.02216762,\n",
       "         -2.13406298,  18.01171487],\n",
       "       [ -0.29327345,   1.87299429,   3.68796924, ...,  -3.09354024,\n",
       "         17.86225923,   4.89427445]])"
      ]
     },
     "execution_count": 3,
     "metadata": {},
     "output_type": "execute_result"
    }
   ],
   "source": [
    "rand_matrix = np.random.normal(loc=1, scale=10, size=(1000, 50))\n",
    "rand_matrix"
   ]
  },
  {
   "cell_type": "markdown",
   "metadata": {},
   "source": [
    "### Matrix Normalization\n",
    "Нормирование матрицы: вычтите из каждого столбца его среднее значение, а затем поделите на его стандартное отклонение.\n",
    "\n",
    "Функция для вычисления среднего: **np.mean**\n",
    "\n",
    "Функция для вычисления стандартного отклонения: **np.std**\n",
    "\n",
    "Первый параметр — матрица, для которой производятся вычисления. Также полезным будет параметр axis, который указывает, по какому измерению вычисляются среднее и стандартное отклонение (если axis=0, то по столбцам, если axis=1, то по строкам; если его не указывать, то данные величины будут вычислены по всей матрице)."
   ]
  },
  {
   "cell_type": "code",
   "execution_count": 4,
   "metadata": {},
   "outputs": [
    {
     "data": {
      "text/plain": [
       "array([[-0.22261519,  0.10446534, -0.63892744, ...,  1.72236375,\n",
       "         0.28629869,  0.64604928],\n",
       "       [-0.39779262,  0.31877398, -1.36046252, ..., -0.03101407,\n",
       "        -0.59425754,  0.76359046],\n",
       "       [-0.70317585, -0.48439557, -1.2017559 , ...,  0.67498472,\n",
       "        -1.14649946,  1.06106514],\n",
       "       ..., \n",
       "       [ 1.34279018, -0.55842114,  1.18688795, ..., -0.64538911,\n",
       "         0.75990822, -0.96131487],\n",
       "       [-0.07775035,  0.33151878,  1.24397764, ..., -0.55068428,\n",
       "        -0.31950551,  1.72226012],\n",
       "       [-0.08717999,  0.04196932,  0.32585579, ..., -0.35715095,\n",
       "         1.70290257,  0.37416889]])"
      ]
     },
     "execution_count": 4,
     "metadata": {},
     "output_type": "execute_result"
    }
   ],
   "source": [
    "mean = np.mean(rand_matrix, axis=0)\n",
    "std = np.std(rand_matrix, axis=0)\n",
    "\n",
    "norm = (rand_matrix - mean) / std\n",
    "norm"
   ]
  },
  {
   "cell_type": "markdown",
   "metadata": {},
   "source": [
    "### Operations with matrix elements\n",
    "Выведите для заданной матрицы номера строк, сумма элементов в которых превосходит 10.\n",
    "\n",
    "Функция для подсчета суммы: **np.sum**\n",
    "\n",
    "Аргументы аналогичны функциям **np.mean** и **np.std**.\n",
    "\n",
    "К матрицам можно применять логические операции, которые будут применяться поэлементно. Соответственно, результатом такой операции будет матрица такого же размера, в ячейках которой будет записано либо **True**, либо **False**. Индексы элементов со значением **True** можно получить с помощью функции **np.nonzero**."
   ]
  },
  {
   "cell_type": "code",
   "execution_count": 5,
   "metadata": {},
   "outputs": [
    {
     "data": {
      "text/plain": [
       "array([[4, 5, 0],\n",
       "       [1, 9, 3],\n",
       "       [5, 1, 1],\n",
       "       [3, 3, 3],\n",
       "       [9, 9, 9],\n",
       "       [4, 7, 1]])"
      ]
     },
     "execution_count": 5,
     "metadata": {},
     "output_type": "execute_result"
    }
   ],
   "source": [
    "Z = np.array([[4, 5, 0], \n",
    "             [1, 9, 3],              \n",
    "             [5, 1, 1],\n",
    "             [3, 3, 3], \n",
    "             [9, 9, 9], \n",
    "             [4, 7, 1]])\n",
    "Z"
   ]
  },
  {
   "cell_type": "code",
   "execution_count": 10,
   "metadata": {},
   "outputs": [
    {
     "name": "stdout",
     "output_type": "stream",
     "text": [
      "[ 9 13  7  9 27 12]\n",
      "(array([1, 4, 5]),)\n"
     ]
    }
   ],
   "source": [
    "sum_list = np.sum(Z, axis=1)\n",
    "print(sum_list)\n",
    "\n",
    "print(np.nonzero(sum_list > 10))"
   ]
  },
  {
   "cell_type": "markdown",
   "metadata": {},
   "source": [
    "### Association matrices\n",
    "Сгенерируйте две единичные матрицы (т.е. с единицами на диагонали) размера 3x3. Соедините две матрицы в одну размера 6x3.\n",
    "\n",
    "Функция для генерации единичной матрицы: np.eye\n",
    "\n",
    "Аргумент: число строк (или, что эквивалентно, столбцов).\n",
    "\n",
    "Функция для вертикальной стыковки матриц: np.vstack((A, B))"
   ]
  },
  {
   "cell_type": "code",
   "execution_count": 13,
   "metadata": {},
   "outputs": [
    {
     "data": {
      "text/plain": [
       "array([[ 1.,  0.,  0.],\n",
       "       [ 0.,  1.,  0.],\n",
       "       [ 0.,  0.,  1.]])"
      ]
     },
     "execution_count": 13,
     "metadata": {},
     "output_type": "execute_result"
    }
   ],
   "source": [
    "A = np.eye(3)\n",
    "B = np.eye(3)\n",
    "\n",
    "A"
   ]
  },
  {
   "cell_type": "code",
   "execution_count": 15,
   "metadata": {},
   "outputs": [
    {
     "data": {
      "text/plain": [
       "array([[ 1.,  0.,  0.],\n",
       "       [ 0.,  1.,  0.],\n",
       "       [ 0.,  0.,  1.],\n",
       "       [ 1.,  0.,  0.],\n",
       "       [ 0.,  1.,  0.],\n",
       "       [ 0.,  0.,  1.]])"
      ]
     },
     "execution_count": 15,
     "metadata": {},
     "output_type": "execute_result"
    }
   ],
   "source": [
    "C = np.vstack((A, B))\n",
    "C"
   ]
  },
  {
   "cell_type": "code",
   "execution_count": null,
   "metadata": {
    "collapsed": true
   },
   "outputs": [],
   "source": []
  }
 ],
 "metadata": {
  "kernelspec": {
   "display_name": "Python 3",
   "language": "python",
   "name": "python3"
  },
  "language_info": {
   "codemirror_mode": {
    "name": "ipython",
    "version": 3
   },
   "file_extension": ".py",
   "mimetype": "text/x-python",
   "name": "python",
   "nbconvert_exporter": "python",
   "pygments_lexer": "ipython3",
   "version": "3.6.3"
  }
 },
 "nbformat": 4,
 "nbformat_minor": 2
}
