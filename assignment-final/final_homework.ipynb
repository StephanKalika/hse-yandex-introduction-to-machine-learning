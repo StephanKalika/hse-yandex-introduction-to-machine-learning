{
 "cells": [
  {
   "cell_type": "markdown",
   "metadata": {},
   "source": [
    "# Градиентный бустинг"
   ]
  },
  {
   "cell_type": "markdown",
   "metadata": {},
   "source": [
    "#### 1. Считайте таблицу с признаками из файла features.csv с помощью кода, приведенного выше. Удалите признаки, связанные с итогами матча (они помечены в описании данных как отсутствующие в тестовой выборке)."
   ]
  },
  {
   "cell_type": "markdown",
   "metadata": {},
   "source": [
    "Загрузим данные:"
   ]
  },
  {
   "cell_type": "code",
   "execution_count": 1,
   "metadata": {},
   "outputs": [],
   "source": [
    "import pandas as pd\n",
    "\n",
    "df = pd.read_csv('features.csv', index_col = 'match_id')"
   ]
  },
  {
   "cell_type": "markdown",
   "metadata": {},
   "source": [
    "Удалим признаки, которых нет в тестовой выборке:"
   ]
  },
  {
   "cell_type": "code",
   "execution_count": 2,
   "metadata": {},
   "outputs": [],
   "source": [
    "columns_to_drop = ['duration', 'tower_status_radiant', 'tower_status_dire', 'barracks_status_radiant', \n",
    "                   'barracks_status_dire']\n",
    "for column in columns_to_drop:\n",
    "    df.drop(column, axis = 1, inplace = True)"
   ]
  },
  {
   "cell_type": "markdown",
   "metadata": {},
   "source": [
    "#### 2. Проверьте выборку на наличие пропусков с помощью функции count(), которая для каждого столбца показывает число заполненных значений. Много ли пропусков в данных? Запишите названия признаков, имеющих пропуски, и попробуйте для любых двух из них дать обоснование, почему их значения могут быть пропущены."
   ]
  },
  {
   "cell_type": "markdown",
   "metadata": {},
   "source": [
    "Найдем признаки с пропусками в данных. Не будем использовать функцию count(), а автоматически найдем имена признаков с пропусками):"
   ]
  },
  {
   "cell_type": "code",
   "execution_count": 3,
   "metadata": {},
   "outputs": [
    {
     "name": "stdout",
     "output_type": "stream",
     "text": [
      "['first_blood_time', 'first_blood_team', 'first_blood_player1', 'first_blood_player2', 'radiant_bottle_time', 'radiant_courier_time', 'radiant_flying_courier_time', 'radiant_first_ward_time', 'dire_bottle_time', 'dire_courier_time', 'dire_flying_courier_time', 'dire_first_ward_time']\n"
     ]
    }
   ],
   "source": [
    "missing_data_columns = list(filter(lambda column: df[column].isna().values.any(), df.columns))\n",
    "\n",
    "print(missing_data_columns)"
   ]
  },
  {
   "cell_type": "markdown",
   "metadata": {},
   "source": [
    "Первые два признака с пропусками `first_blood_time` и `first_blood_team`. Пропуски в них логичны, т.к. не обязательно в каждой игре \"первая кровь\" происходила в течение первых 5 минут игры, про которые у нас есть данные.\n",
    "\n",
    "В целом, можно заметить, что пропуски связаны с событиями \"первая кровь\" и \"приобретение предметов\". Это можно легко объяснить именно тем, что эти события просто не произошли за первые пять минут игры."
   ]
  },
  {
   "cell_type": "markdown",
   "metadata": {},
   "source": [
    "#### 3. Замените пропуски на нули с помощью функции fillna(). На самом деле этот способ является предпочтительным для логистической регрессии, поскольку он позволит пропущенному значению не вносить никакого вклада в предсказание. Для деревьев часто лучшим вариантом оказывается замена пропуска на очень большое или очень маленькое значение — в этом случае при построении разбиения вершины можно будет отправить объекты с пропусками в отдельную ветвь дерева. Также есть и другие подходы — например, замена пропуска на среднее значение признака. Мы не требуем этого в задании, но при желании попробуйте разные подходы к обработке пропусков и сравните их между собой."
   ]
  },
  {
   "cell_type": "markdown",
   "metadata": {},
   "source": [
    "Не будем заменять пропуски на 0, т.к. это не логично. Эти признаки - время, а значит если мы заменим пустые значения в них на 0, это будет означать, что события произошли в самом начале игры. Но в действительности они не произошли. Так что заменим их на -1."
   ]
  },
  {
   "cell_type": "code",
   "execution_count": 4,
   "metadata": {},
   "outputs": [],
   "source": [
    "df.fillna(-1, inplace = True)"
   ]
  },
  {
   "cell_type": "markdown",
   "metadata": {},
   "source": [
    "#### 4. Какой столбец содержит целевую переменную? Запишите его название."
   ]
  },
  {
   "cell_type": "markdown",
   "metadata": {},
   "source": [
    "Согласно документации - `radiant_win`. Вот его значения:"
   ]
  },
  {
   "cell_type": "code",
   "execution_count": 5,
   "metadata": {},
   "outputs": [
    {
     "name": "stdout",
     "output_type": "stream",
     "text": [
      "[1 0]\n"
     ]
    }
   ],
   "source": [
    "print(df['radiant_win'].unique())"
   ]
  },
  {
   "cell_type": "markdown",
   "metadata": {},
   "source": [
    "#### Забудем, что в выборке есть категориальные признаки, и попробуем обучить градиентный бустинг над деревьями на имеющейся матрице \"объекты-признаки\". Зафиксируйте генератор разбиений для кросс-валидации по 5 блокам (KFold), не забудьте перемешать при этом выборку (shuffle=True), поскольку данные в таблице отсортированы по времени, и без перемешивания можно столкнуться с нежелательными эффектами при оценивании качества. Оцените качество градиентного бустинга (GradientBoostingClassifier) с помощью данной кросс-валидации, попробуйте при этом разное количество деревьев (как минимум протестируйте следующие значения для количества деревьев: 10, 20, 30). Долго ли настраивались классификаторы? Достигнут ли оптимум на испытанных значениях параметра n_estimators, или же качество, скорее всего, продолжит расти при дальнейшем его увеличении?"
   ]
  },
  {
   "cell_type": "markdown",
   "metadata": {},
   "source": [
    "Подготовим матрицы c признаками для обучения:"
   ]
  },
  {
   "cell_type": "code",
   "execution_count": 6,
   "metadata": {},
   "outputs": [],
   "source": [
    "import numpy as np\n",
    "\n",
    "x = df.as_matrix(columns = df.columns.difference(['radiant_win']))\n",
    "y = np.ravel(df.as_matrix(columns = ['radiant_win']))"
   ]
  },
  {
   "cell_type": "markdown",
   "metadata": {},
   "source": [
    "Обучим градиентный бустинг и посмотрим его качество с помощью AUC-ROC и кросс-валидации для разного числа деревьев:"
   ]
  },
  {
   "cell_type": "code",
   "execution_count": 7,
   "metadata": {},
   "outputs": [
    {
     "name": "stdout",
     "output_type": "stream",
     "text": [
      "n_estimators = 10, roc_auc = 0.6647663489746313, time = 0:00:39.457429\n",
      "n_estimators = 20, roc_auc = 0.6825735847213263, time = 0:01:10.378600\n",
      "n_estimators = 30, roc_auc = 0.6901836602702403, time = 0:01:45.939393\n",
      "n_estimators = 40, roc_auc = 0.6944579347951023, time = 0:02:24.659465\n",
      "n_estimators = 50, roc_auc = 0.6978675524096297, time = 0:02:47.372763\n",
      "n_estimators = 60, roc_auc = 0.7005126037101042, time = 0:04:17.478760\n",
      "n_estimators = 70, roc_auc = 0.7024448631651243, time = 0:07:04.563176\n",
      "n_estimators = 80, roc_auc = 0.7041253821974692, time = 0:07:24.371417\n",
      "n_estimators = 90, roc_auc = 0.7056720928469578, time = 0:04:33.210721\n",
      "n_estimators = 100, roc_auc = 0.7067734299816308, time = 0:05:24.324671\n",
      "n_estimators = 110, roc_auc = 0.7076780369721887, time = 0:05:43.466773\n",
      "n_estimators = 120, roc_auc = 0.7085808454715753, time = 0:06:31.946728\n",
      "n_estimators = 130, roc_auc = 0.7094237562967745, time = 0:07:39.270207\n",
      "n_estimators = 140, roc_auc = 0.7101196525024956, time = 0:07:48.221477\n",
      "n_estimators = 150, roc_auc = 0.710838887704501, time = 0:08:33.673056\n",
      "n_estimators = 160, roc_auc = 0.7116509215206753, time = 0:09:09.280132\n",
      "n_estimators = 170, roc_auc = 0.7123613768478453, time = 0:09:28.475370\n",
      "n_estimators = 180, roc_auc = 0.7129614318439201, time = 0:10:15.341473\n",
      "n_estimators = 190, roc_auc = 0.7135981998404077, time = 0:12:48.424384\n",
      "n_estimators = 200, roc_auc = 0.714139745421826, time = 0:18:16.559695\n",
      "n_estimators = 210, roc_auc = 0.7148172661184822, time = 0:10:18.446740\n",
      "n_estimators = 220, roc_auc = 0.7153807627222983, time = 0:11:15.124155\n",
      "n_estimators = 230, roc_auc = 0.7158992306384716, time = 0:16:50.329535\n",
      "n_estimators = 240, roc_auc = 0.7161801051882831, time = 0:13:59.267918\n",
      "n_estimators = 250, roc_auc = 0.7165190115257408, time = 0:13:51.337540\n"
     ]
    }
   ],
   "source": [
    "import time\n",
    "import datetime\n",
    "from sklearn.model_selection import KFold\n",
    "from sklearn.ensemble import GradientBoostingClassifier\n",
    "from sklearn.metrics import roc_auc_score\n",
    "\n",
    "kfold = KFold(n_splits = 5, shuffle = True)\n",
    "data_split = list(kfold.split(x))\n",
    "\n",
    "roc_aucs = []\n",
    "working_times = []\n",
    "n_estimators = list(range(10, 251, 10))\n",
    "\n",
    "def measure_gbc(n, learning_rate = 0.1, max_depth = 3):\n",
    "    n_roc_aucs = []\n",
    "    start_time = datetime.datetime.now()\n",
    "    \n",
    "    for train_index, test_index in data_split:\n",
    "        x_train, x_test = x[train_index], x[test_index]\n",
    "        y_train, y_test = y[train_index], y[test_index]\n",
    "    \n",
    "        gbclf = GradientBoostingClassifier(n_estimators = n, learning_rate = learning_rate,\n",
    "                                           max_depth = max_depth)\n",
    "        gbclf.fit(x_train, y_train)\n",
    "        y_score = gbclf.predict_proba(x_test)[:, 1]\n",
    "        roc_auc = roc_auc_score(y_true = y_test, y_score = y_score)\n",
    "        n_roc_aucs.append(roc_auc)\n",
    "\n",
    "    roc_auc = np.mean(n_roc_aucs)\n",
    "    working_time = datetime.datetime.now() - start_time\n",
    "    return roc_auc, working_time\n",
    "    \n",
    "for n in n_estimators:\n",
    "    roc_auc, working_time = measure_gbc(n)\n",
    "    roc_aucs.append(roc_auc)\n",
    "    working_times.append(working_time)\n",
    "    print(f\"n_estimators = {n}, roc_auc = {roc_auc}, time = {working_time}\")"
   ]
  },
  {
   "cell_type": "markdown",
   "metadata": {},
   "source": [
    "##### Анализ результатов работы"
   ]
  },
  {
   "cell_type": "markdown",
   "metadata": {},
   "source": [
    "В случае `30` деревьев работа алгоритма заняла:"
   ]
  },
  {
   "cell_type": "code",
   "execution_count": 8,
   "metadata": {},
   "outputs": [
    {
     "name": "stdout",
     "output_type": "stream",
     "text": [
      "0:01:45.939393\n"
     ]
    }
   ],
   "source": [
    "index = n_estimators.index(30)\n",
    "print(working_times[index])"
   ]
  },
  {
   "cell_type": "markdown",
   "metadata": {},
   "source": [
    "При этом алгоритм показал следующее значение AUC-ROC:"
   ]
  },
  {
   "cell_type": "code",
   "execution_count": 9,
   "metadata": {},
   "outputs": [
    {
     "name": "stdout",
     "output_type": "stream",
     "text": [
      "0.69018366027\n"
     ]
    }
   ],
   "source": [
    "print(roc_aucs[index])"
   ]
  },
  {
   "cell_type": "markdown",
   "metadata": {},
   "source": [
    "Нарисуем график зависимости AUC-ROC от числа деревьев:"
   ]
  },
  {
   "cell_type": "code",
   "execution_count": 10,
   "metadata": {},
   "outputs": [
    {
     "data": {
      "image/png": "[encoded data removed]",
      "text/plain": [
       "<matplotlib.figure.Figure at 0x100f897f0>"
      ]
     },
     "metadata": {},
     "output_type": "display_data"
    }
   ],
   "source": [
    "import matplotlib.pyplot as plt\n",
    "\n",
    "%matplotlib inline\n",
    "\n",
    "plt.figure()\n",
    "plt.title('AUC-ROC - N Estimators Chart')\n",
    "plt.plot(n_estimators, roc_aucs, color = 'green', linestyle = 'solid', \n",
    "         marker = 'o', linewidth = 2)\n",
    "plt.show()"
   ]
  },
  {
   "cell_type": "markdown",
   "metadata": {},
   "source": [
    "Как следует из графика, прирост качества замедляется по мере увеличения числа деревьев. Не смотря на это, использование более 30 деревьев вполне оправданно. "
   ]
  },
  {
   "cell_type": "markdown",
   "metadata": {},
   "source": [
    "Попробуем разобраться что можно сделать, чтобы ускорить обучение на большом количестве дереьвев. У градиентного бустинга есть три основных параметра для тюнинга: количество деревьев, скорость обучения и максимальная глубина деревьев."
   ]
  },
  {
   "cell_type": "markdown",
   "metadata": {},
   "source": [
    "Проверим влияние скорости обучения на время обучения алгоритма при числе деревьев равном 60:"
   ]
  },
  {
   "cell_type": "code",
   "execution_count": 11,
   "metadata": {},
   "outputs": [
    {
     "name": "stdout",
     "output_type": "stream",
     "text": [
      "learning_rate = 1, roc_auc = 0.7006716211176018, time = 0:05:58.737985\n",
      "learning_rate = 0.5, roc_auc = 0.7094754620355662, time = 0:04:14.171295\n",
      "learning_rate = 0.3, roc_auc = 0.71038435911665, time = 0:03:03.764492\n",
      "learning_rate = 0.2, roc_auc = 0.7069728504555586, time = 0:03:04.700608\n",
      "learning_rate = 0.1, roc_auc = 0.7005126037101042, time = 0:03:04.485157\n"
     ]
    }
   ],
   "source": [
    "for learning_rate in [1, 0.5, 0.3, 0.2, 0.1]:\n",
    "    roc_auc, working_time = measure_gbc(60, learning_rate = learning_rate)\n",
    "    print(f\"learning_rate = {learning_rate}, roc_auc = {roc_auc}, time = {working_time}\")"
   ]
  },
  {
   "cell_type": "markdown",
   "metadata": {},
   "source": [
    "Как видно, время работы алгоритма существенно не изменилось."
   ]
  },
  {
   "cell_type": "markdown",
   "metadata": {},
   "source": [
    "Проверим влияние максимальной глубины деревьев на скорость обучения при числе деревьев равном 60:"
   ]
  },
  {
   "cell_type": "code",
   "execution_count": 12,
   "metadata": {},
   "outputs": [
    {
     "name": "stdout",
     "output_type": "stream",
     "text": [
      "max_depth = 3, roc_auc = 0.7005126037101042, time = 0:03:01.369567\n",
      "max_depth = 2, roc_auc = 0.6950462090663883, time = 0:01:55.518514\n",
      "max_depth = 1, roc_auc = 0.6820302171548914, time = 0:00:58.586370\n"
     ]
    }
   ],
   "source": [
    "for max_depth in [3, 2, 1]:\n",
    "    roc_auc, working_time = measure_gbc(60, max_depth = max_depth)\n",
    "    print(f\"max_depth = {max_depth}, roc_auc = {roc_auc}, time = {working_time}\")"
   ]
  },
  {
   "cell_type": "markdown",
   "metadata": {},
   "source": [
    "Уменьшение максимальной глубины деревьев до 2 заметно ускоряет обучение, при это качество уменьшается незначительно. Поэтому для ускорения обучения на большом количестве деревьев можно уменьшать их максимальную глубину."
   ]
  },
  {
   "cell_type": "markdown",
   "metadata": {},
   "source": [
    "# Логистическая регрессия"
   ]
  },
  {
   "cell_type": "markdown",
   "metadata": {},
   "source": [
    "#### 1. Оцените качество логистической регрессии (sklearn.linear_model.LogisticRegression с L2-регуляризацией) с помощью кросс-валидации по той же схеме, которая использовалась для градиентного бустинга. Подберите при этом лучший параметр регуляризации (C). Какое наилучшее качество у вас получилось? Как оно соотносится с качеством градиентного бустинга? Чем вы можете объяснить эту разницу? Быстрее ли работает логистическая регрессия по сравнению с градиентным бустингом?"
   ]
  },
  {
   "cell_type": "markdown",
   "metadata": {},
   "source": [
    "Загрузим и подготовим данные:"
   ]
  },
  {
   "cell_type": "code",
   "execution_count": 13,
   "metadata": {},
   "outputs": [],
   "source": [
    "df = pd.read_csv('features.csv', index_col = 'match_id')\n",
    "\n",
    "columns_to_drop = ['duration', 'tower_status_radiant', 'tower_status_dire', 'barracks_status_radiant', \n",
    "                   'barracks_status_dire']\n",
    "for column in columns_to_drop:\n",
    "    df.drop(column, axis = 1, inplace = True)\n",
    "    \n",
    "df.fillna(-1, inplace = True)"
   ]
  },
  {
   "cell_type": "markdown",
   "metadata": {},
   "source": [
    "Для начала проведём нормализацию признаков, т.к. линейные методы чувствительны к масштабу исходных данных:"
   ]
  },
  {
   "cell_type": "code",
   "execution_count": 14,
   "metadata": {},
   "outputs": [],
   "source": [
    "from sklearn.preprocessing import StandardScaler\n",
    "\n",
    "heroes_ids_columns = ['r1_hero', 'r2_hero', 'r3_hero', 'r4_hero', 'r5_hero',\n",
    "                      'd1_hero', 'd2_hero', 'd3_hero', 'd4_hero', 'd5_hero']\n",
    "cat_columns = ['lobby_type'] + heroes_ids_columns\n",
    "columns_to_scale = df.columns.difference(['radiant_win', 'start_time'] + cat_columns)\n",
    "\n",
    "data = df.as_matrix(columns = columns_to_scale)\n",
    "scaler = StandardScaler()\n",
    "data = scaler.fit_transform(data)\n",
    "for i, column in enumerate(columns_to_scale):\n",
    "    df[column] = data[:, i]"
   ]
  },
  {
   "cell_type": "markdown",
   "metadata": {},
   "source": [
    "Подготовим матрицы с признаками для обучения:"
   ]
  },
  {
   "cell_type": "code",
   "execution_count": 15,
   "metadata": {},
   "outputs": [],
   "source": [
    "x = df.as_matrix(columns = df.columns.difference(['radiant_win', 'start_time']))\n",
    "y = np.ravel(df.as_matrix(columns = ['radiant_win']))"
   ]
  },
  {
   "cell_type": "markdown",
   "metadata": {},
   "source": [
    "Построим логистическую регрессию для разных значений параметра регуляризации C. Будем использовать ту же кросс-валидацию, что и для градиентного бустинга чтобы можно было сравнивать значения AUC-ROC:"
   ]
  },
  {
   "cell_type": "code",
   "execution_count": 16,
   "metadata": {},
   "outputs": [
    {
     "name": "stdout",
     "output_type": "stream",
     "text": [
      "C = 1e-06, roc_auc = 0.6600091722088369, time = 0:00:03.592894\n",
      "C = 1e-05, roc_auc = 0.6957045993305769, time = 0:00:04.611708\n",
      "C = 0.0001, roc_auc = 0.7109203000985014, time = 0:00:08.761236\n",
      "C = 0.001, roc_auc = 0.7157764203388917, time = 0:00:15.511621\n",
      "C = 0.01, roc_auc = 0.7159212130720893, time = 0:00:19.348066\n",
      "C = 0.1, roc_auc = 0.7158813480992721, time = 0:00:22.016497\n",
      "C = 1.0, roc_auc = 0.7158792164517782, time = 0:00:21.644576\n",
      "C = 10.0, roc_auc = 0.715881121129817, time = 0:00:19.587485\n",
      "C = 100.0, roc_auc = 0.7158826662574965, time = 0:00:20.438621\n",
      "C = 1000.0, roc_auc = 0.71587648053025, time = 0:00:22.011590\n",
      "C = 10000.0, roc_auc = 0.7158775194090932, time = 0:00:22.067916\n",
      "C = 100000.0, roc_auc = 0.7158777270341311, time = 0:00:21.931253\n"
     ]
    }
   ],
   "source": [
    "from sklearn.linear_model import LogisticRegression\n",
    "\n",
    "roc_aucs = []\n",
    "cs = np.power(10.0, np.arange(-6, 6))\n",
    "\n",
    "def measure_lr(c):\n",
    "    n_roc_aucs = []\n",
    "    start_time = datetime.datetime.now()\n",
    "    \n",
    "    for train_index, test_index in data_split:\n",
    "        x_train, x_test = x[train_index], x[test_index]\n",
    "        y_train, y_test = y[train_index], y[test_index]\n",
    "    \n",
    "        lr = LogisticRegression(C = c)\n",
    "        lr.fit(x_train, y_train)\n",
    "        y_score = lr.predict_proba(x_test)[:, 1]\n",
    "        roc_auc = roc_auc_score(y_true = y_test, y_score = y_score)\n",
    "        n_roc_aucs.append(roc_auc)\n",
    "\n",
    "    roc_auc = np.mean(n_roc_aucs)\n",
    "    working_time = datetime.datetime.now() - start_time\n",
    "    return roc_auc, working_time\n",
    "    \n",
    "for c in cs:\n",
    "    roc_auc, working_time = measure_lr(c)\n",
    "    roc_aucs.append(roc_auc)\n",
    "    print(f\"C = {c}, roc_auc = {roc_auc}, time = {working_time}\")"
   ]
  },
  {
   "cell_type": "markdown",
   "metadata": {},
   "source": [
    "Логистическая регрессия показывает высокое качество сравнимое с градиентным бустингом на числе дервьев более 250. При этом скорость обучения существенно выше."
   ]
  },
  {
   "cell_type": "markdown",
   "metadata": {},
   "source": [
    "Построим график зависимости качества логистической регрессии AUC-ROC от логарифма параметра регуляризации С:"
   ]
  },
  {
   "cell_type": "code",
   "execution_count": 17,
   "metadata": {},
   "outputs": [
    {
     "data": {
      "image/png": "[encoded data removed]",
      "text/plain": [
       "<matplotlib.figure.Figure at 0x108e9ee80>"
      ]
     },
     "metadata": {},
     "output_type": "display_data"
    }
   ],
   "source": [
    "import math\n",
    "\n",
    "plt.figure()\n",
    "plt.title('AUC-ROC - C Chart')\n",
    "plt.plot(list(map(lambda v: math.log10(v), cs)), roc_aucs, color = 'green', linestyle = 'solid', \n",
    "         marker = 'o', linewidth = 2)\n",
    "plt.show()"
   ]
  },
  {
   "cell_type": "markdown",
   "metadata": {},
   "source": [
    "Как видно из графика, параметр регуляризации С в данном случае не оказывает существенного влияния на качество логистической регрессии. Наилучшее качество получается при C = 0.01."
   ]
  },
  {
   "cell_type": "markdown",
   "metadata": {},
   "source": [
    "#### 2. Среди признаков в выборке есть категориальные, которые мы использовали как числовые, что вряд ли является хорошей идеей. Категориальных признаков в этой задаче одиннадцать: lobby_type и r1_hero, r2_hero, ..., r5_hero, d1_hero, d2_hero, ..., d5_hero. Уберите их из выборки, и проведите кросс-валидацию для логистической регрессии на новой выборке с подбором лучшего параметра регуляризации. Изменилось ли качество? Чем вы можете это объяснить?"
   ]
  },
  {
   "cell_type": "markdown",
   "metadata": {},
   "source": [
    "Удалим категориальные признаки:"
   ]
  },
  {
   "cell_type": "code",
   "execution_count": 18,
   "metadata": {},
   "outputs": [],
   "source": [
    "df_cat = df.copy(deep = True)\n",
    "for column in cat_columns:\n",
    "    df_cat.drop(column, axis = 1, inplace = True)"
   ]
  },
  {
   "cell_type": "markdown",
   "metadata": {},
   "source": [
    "Подготовим матрицы с данными для обучения:"
   ]
  },
  {
   "cell_type": "code",
   "execution_count": 19,
   "metadata": {},
   "outputs": [],
   "source": [
    "x = df_cat.as_matrix(columns = df_cat.columns.difference(['radiant_win', 'start_time']))\n",
    "y = np.ravel(df_cat.as_matrix(columns = ['radiant_win']))"
   ]
  },
  {
   "cell_type": "markdown",
   "metadata": {},
   "source": [
    "Проверим как удаление категориальных признаков повлияло на логистическую регрессию:"
   ]
  },
  {
   "cell_type": "code",
   "execution_count": 20,
   "metadata": {},
   "outputs": [
    {
     "name": "stdout",
     "output_type": "stream",
     "text": [
      "C = 1e-06, roc_auc = 0.6905443007976004, time = 0:00:01.954221\n",
      "C = 1e-05, roc_auc = 0.6964099852845461, time = 0:00:02.392518\n",
      "C = 0.0001, roc_auc = 0.710948103093101, time = 0:00:04.011072\n",
      "C = 0.001, roc_auc = 0.715784672758926, time = 0:00:07.237495\n",
      "C = 0.01, roc_auc = 0.715919058697688, time = 0:00:09.811781\n",
      "C = 0.1, roc_auc = 0.7158812093401765, time = 0:00:10.354296\n",
      "C = 1.0, roc_auc = 0.7158764791228169, time = 0:00:10.398416\n",
      "C = 10.0, roc_auc = 0.7158760236316225, time = 0:00:10.479774\n",
      "C = 100.0, roc_auc = 0.7158760236486514, time = 0:00:10.414042\n",
      "C = 1000.0, roc_auc = 0.7158760067047885, time = 0:00:10.293989\n",
      "C = 10000.0, roc_auc = 0.7158760067034378, time = 0:00:10.350027\n",
      "C = 100000.0, roc_auc = 0.7158760067034378, time = 0:00:10.413510\n"
     ]
    }
   ],
   "source": [
    "roc_aucs = []\n",
    "\n",
    "for c in cs:\n",
    "    roc_auc, working_time = measure_lr(c)\n",
    "    roc_aucs.append(roc_auc)\n",
    "    print(f\"C = {c}, roc_auc = {roc_auc}, time = {working_time}\")"
   ]
  },
  {
   "cell_type": "markdown",
   "metadata": {},
   "source": [
    "После удаления категориальных признаков качество практически не изменилось, значит они в том виде, что мы их использовали, не имеют существенного значения для качества модели. Лучшее качество по-прежнему достигается при C = 0.01."
   ]
  },
  {
   "cell_type": "markdown",
   "metadata": {},
   "source": [
    "#### 3. На предыдущем шаге мы исключили из выборки признаки rM_hero и dM_hero, которые показывают, какие именно герои играли за каждую команду. Это важные признаки — герои имеют разные характеристики, и некоторые из них выигрывают чаще, чем другие. Выясните из данных, сколько различных идентификаторов героев существует в данной игре (вам может пригодиться фукнция unique или value_counts)."
   ]
  },
  {
   "cell_type": "markdown",
   "metadata": {},
   "source": [
    "Сколько всего идентификаторов героев существует:"
   ]
  },
  {
   "cell_type": "code",
   "execution_count": 21,
   "metadata": {},
   "outputs": [
    {
     "name": "stdout",
     "output_type": "stream",
     "text": [
      "108\n"
     ]
    }
   ],
   "source": [
    "heroes_ids = np.unique(list(map(lambda c: df[c].unique(), heroes_ids_columns)))\n",
    "print(len(heroes_ids))"
   ]
  },
  {
   "cell_type": "markdown",
   "metadata": {},
   "source": [
    "#### 4. Воспользуемся подходом \"мешок слов\" для кодирования информации о героях. Пусть всего в игре имеет N различных героев. Сформируем N признаков, при этом i-й будет равен нулю, если i-й герой не участвовал в матче; единице, если i-й герой играл за команду Radiant; минус единице, если i-й герой играл за команду Dire. Ниже вы можете найти код, который выполняет данной преобразование. Добавьте полученные признаки к числовым, которые вы использовали во втором пункте данного этапа."
   ]
  },
  {
   "cell_type": "markdown",
   "metadata": {},
   "source": [
    "Построим матрицу таких признаков:"
   ]
  },
  {
   "cell_type": "code",
   "execution_count": 22,
   "metadata": {},
   "outputs": [],
   "source": [
    "N = np.max(heroes_ids)\n",
    "x_pick = np.zeros((df.shape[0], N))\n",
    "\n",
    "for i, match_id in enumerate(df.index):\n",
    "    for p in range(5):\n",
    "        x_pick[i, df.loc[match_id, 'r%d_hero' % (p+1)] - 1] = 1\n",
    "        x_pick[i, df.loc[match_id, 'd%d_hero' % (p+1)] - 1] = -1"
   ]
  },
  {
   "cell_type": "markdown",
   "metadata": {},
   "source": [
    "Добавим ее к набору данных:"
   ]
  },
  {
   "cell_type": "code",
   "execution_count": 23,
   "metadata": {},
   "outputs": [],
   "source": [
    "for i in range(N):\n",
    "    df_cat[f\"Hero{i}\"] = x_pick[:, i]"
   ]
  },
  {
   "cell_type": "markdown",
   "metadata": {},
   "source": [
    "#### 5. Проведите кросс-валидацию для логистической регрессии на новой выборке с подбором лучшего параметра регуляризации. Какое получилось качество? Улучшилось ли оно? Чем вы можете это объяснить?"
   ]
  },
  {
   "cell_type": "markdown",
   "metadata": {},
   "source": [
    "Подготовим матрицы с данными для обучения:"
   ]
  },
  {
   "cell_type": "code",
   "execution_count": 24,
   "metadata": {},
   "outputs": [],
   "source": [
    "x = df_cat.as_matrix(columns = df_cat.columns.difference(['radiant_win', 'start_time']))\n",
    "y = np.ravel(df_cat.as_matrix(columns = ['radiant_win']))"
   ]
  },
  {
   "cell_type": "markdown",
   "metadata": {},
   "source": [
    "Посмотрим как это преобразование повлияло на обучение:"
   ]
  },
  {
   "cell_type": "code",
   "execution_count": 25,
   "metadata": {},
   "outputs": [
    {
     "name": "stdout",
     "output_type": "stream",
     "text": [
      "C = 1e-06, roc_auc = 0.693050718738124, time = 0:00:02.651030\n",
      "C = 1e-05, roc_auc = 0.7006059450612709, time = 0:00:03.089203\n",
      "C = 0.0001, roc_auc = 0.724687038382984, time = 0:00:05.287139\n",
      "C = 0.001, roc_auc = 0.7457215406423588, time = 0:00:09.635899\n",
      "C = 0.01, roc_auc = 0.7511369536477372, time = 0:00:15.824552\n",
      "C = 0.1, roc_auc = 0.7513495315423777, time = 0:00:21.162533\n",
      "C = 1.0, roc_auc = 0.7513326614865894, time = 0:00:22.194791\n",
      "C = 10.0, roc_auc = 0.7513303352994122, time = 0:00:22.363398\n",
      "C = 100.0, roc_auc = 0.7513298840157099, time = 0:00:22.324373\n",
      "C = 1000.0, roc_auc = 0.7513300195667766, time = 0:00:22.302132\n",
      "C = 10000.0, roc_auc = 0.7513299602424944, time = 0:00:22.214095\n",
      "C = 100000.0, roc_auc = 0.7513299284793127, time = 0:00:22.463800\n"
     ]
    }
   ],
   "source": [
    "roc_aucs = []\n",
    "\n",
    "for c in cs:\n",
    "    roc_auc, working_time = measure_lr(c)\n",
    "    roc_aucs.append(roc_auc)\n",
    "    print(f\"C = {c}, roc_auc = {roc_auc}, time = {working_time}\")"
   ]
  },
  {
   "cell_type": "markdown",
   "metadata": {},
   "source": [
    "Качество обучения существенно взоросло. В данном случае лучший параметр C = 0.1. Это можно объяснить тем, что само значение идентификатора мало влияло на результат, значительно важнее был просто факт присутствия героя в игре."
   ]
  },
  {
   "cell_type": "markdown",
   "metadata": {},
   "source": [
    "#### 6. Постройте предсказания вероятностей победы команды Radiant для тестовой выборки с помощью лучшей из изученных моделей (лучшей с точки зрения AUC-ROC на кросс-валидации). Убедитесь, что предсказанные вероятности адекватные — находятся на отрезке [0, 1], не совпадают между собой (т.е. что модель не получилась константной)."
   ]
  },
  {
   "cell_type": "markdown",
   "metadata": {},
   "source": [
    "Судя по AUC-ROC для этой задачи лучше всего работает логистическая регрессия."
   ]
  },
  {
   "cell_type": "markdown",
   "metadata": {},
   "source": [
    "Обучим модель на обучающей выборке с C = 0.1:"
   ]
  },
  {
   "cell_type": "code",
   "execution_count": 26,
   "metadata": {},
   "outputs": [
    {
     "data": {
      "text/plain": [
       "LogisticRegression(C=0.1, class_weight=None, dual=False, fit_intercept=True,\n",
       "          intercept_scaling=1, max_iter=100, multi_class='ovr', n_jobs=1,\n",
       "          penalty='l2', random_state=None, solver='liblinear', tol=0.0001,\n",
       "          verbose=0, warm_start=False)"
      ]
     },
     "execution_count": 26,
     "metadata": {},
     "output_type": "execute_result"
    }
   ],
   "source": [
    "lr = LogisticRegression(C = 0.1)\n",
    "lr.fit(x, y)"
   ]
  },
  {
   "cell_type": "markdown",
   "metadata": {},
   "source": [
    "Загрузим и подготовим тестовую выборку:"
   ]
  },
  {
   "cell_type": "code",
   "execution_count": 27,
   "metadata": {},
   "outputs": [],
   "source": [
    "df = pd.read_csv('features_test.csv', index_col = 'match_id')\n",
    "\n",
    "df.fillna(-1, inplace = True)\n",
    "\n",
    "data = df.as_matrix(columns = columns_to_scale)\n",
    "data = scaler.transform(data)\n",
    "for i, column in enumerate(columns_to_scale):\n",
    "    df[column] = data[:, i]\n",
    "        \n",
    "x_pick = np.zeros((df.shape[0], N))\n",
    "for i, match_id in enumerate(df.index):\n",
    "    for p in range(5):\n",
    "        x_pick[i, df.loc[match_id, 'r%d_hero' % (p+1)] - 1] = 1\n",
    "        x_pick[i, df.loc[match_id, 'd%d_hero' % (p+1)] - 1] = -1\n",
    "for i in range(N):\n",
    "    df[f\"Hero{i}\"] = x_pick[:, i]\n",
    "    \n",
    "for column in cat_columns:\n",
    "    df.drop(column, axis = 1, inplace = True)"
   ]
  },
  {
   "cell_type": "markdown",
   "metadata": {},
   "source": [
    "Получим предсказания для тестовой выборки:"
   ]
  },
  {
   "cell_type": "code",
   "execution_count": 28,
   "metadata": {},
   "outputs": [
    {
     "name": "stdout",
     "output_type": "stream",
     "text": [
      "[[ 0.16161213  0.83838787]\n",
      " [ 0.2262069   0.7737931 ]\n",
      " [ 0.79612991  0.20387009]\n",
      " ..., \n",
      " [ 0.77383724  0.22616276]\n",
      " [ 0.37848084  0.62151916]\n",
      " [ 0.5847073   0.4152927 ]]\n"
     ]
    }
   ],
   "source": [
    "proba = lr.predict_proba(df.as_matrix(columns = df.columns.difference(['start_time'])))\n",
    "print(proba)"
   ]
  },
  {
   "cell_type": "markdown",
   "metadata": {},
   "source": [
    "Видно, что вероятности адекватны:"
   ]
  },
  {
   "cell_type": "code",
   "execution_count": 29,
   "metadata": {},
   "outputs": [
    {
     "name": "stdout",
     "output_type": "stream",
     "text": [
      "Dire: min = 0.003517865110973739, max = 0.9907292813617132, Unique values = 17177\n",
      "Radiant: min = 0.003517865110973739, max = 0.9907292813617132, Unique values = 17177\n"
     ]
    }
   ],
   "source": [
    "dire_proba = proba[:, 0]\n",
    "rad_proba = proba[:, 1]\n",
    "\n",
    "print(f\"Dire: min = {np.min(dire_proba)}, max = {np.max(dire_proba)}, Unique values = {np.unique(dire_proba).size}\")\n",
    "print(f\"Radiant: min = {np.min(dire_proba)}, max = {np.max(dire_proba)}, Unique values = {np.unique(dire_proba).size}\")"
   ]
  },
  {
   "cell_type": "markdown",
   "metadata": {},
   "source": [
    "Подготовим и сохраним файл для Kaggle:"
   ]
  },
  {
   "cell_type": "code",
   "execution_count": null,
   "metadata": {},
   "outputs": [],
   "source": [
    "df_test = pd.DataFrame()\n",
    "df_test['match_id'] = df.index.values\n",
    "df_test['radiant_win'] = rad_proba\n",
    "\n",
    "df_test.to_csv('kaggle_results.csv', index = False)"
   ]
  }
 ],
 "metadata": {
  "kernelspec": {
   "display_name": "Python [default]",
   "language": "python",
   "name": "python3"
  },
  "language_info": {
   "codemirror_mode": {
    "name": "ipython",
    "version": 3
   },
   "file_extension": ".py",
   "mimetype": "text/x-python",
   "name": "python",
   "nbconvert_exporter": "python",
   "pygments_lexer": "ipython3",
   "version": "3.5.4"
  }
 },
 "nbformat": 4,
 "nbformat_minor": 2
}
