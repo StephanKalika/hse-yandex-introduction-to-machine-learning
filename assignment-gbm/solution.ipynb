{
 "cells": [
  {
   "cell_type": "markdown",
   "metadata": {},
   "source": [
    "# Градиентный бустинг над решающими деревьями\n",
    "\n",
    "### Вы научитесь:\n",
    "\n",
    "- работать с градиентным бустингом и подбирать его гиперпараметры\n",
    "- сравнивать разные способы построения композиций\n",
    "- понимать, в каком случае лучше использовать случайный лес, а в каком — градиентный бустинг\n",
    "- использовать метрику `log-loss`\n",
    "\n",
    "### Введение\n",
    "\n",
    "Построение композиции — важный подход в машинном обучении, который позволяет объединять большое количество слабых алгоритмов в один сильный. Данный подход широко используется на практике в самых разных задачах.\n",
    "\n",
    "\n",
    "На лекциях был рассмотрен метод градиентного бустинга, который последовательно строит композицию алгоритмов, причем каждый следующий алгоритм выбирается так, чтобы исправлять ошибки уже имеющейся композиции. Обычно в качестве базовых алгоритмов используют деревья небольшой глубины, поскольку их достаточно легко строить, и при этом они дают нелинейные разделяющие поверхности.\n",
    "\n",
    "\n",
    "Другой метод построения композиций — случайный лес. В нем, в отличие от градиентного бустинга, отдельные деревья строятся независимо и без каких-либо ограничений на глубину — дерево наращивается до тех пор, пока не покажет наилучшее качество на обучающей выборке.\n",
    "\n",
    "\n",
    "В этом задании мы будем иметь дело с задачей классификации. В качестве функции потерь будем использовать `log-loss`:\n",
    "\n",
    "$$ L(y, z) = -ylogz - (1 - y)log(1 - z) $$\n",
    "\n",
    "Здесь через *y* обозначен истинный ответ, через *z* — прогноз алгоритма. Данная функция является дифференцируемой, и поэтому подходит для использования в градиентном бустинге. Также можно показать, что при ее использовании итоговый алгоритм будет приближать истинные вероятности классов.\n",
    "\n",
    "### Реализация в sklearn\n",
    "\n",
    "В пакете `scikit-learn` градиентный бустинг реализован в модуле `ensemble` в виде классов [GradientBoostingClassifier](http://scikit-learn.org/stable/modules/generated/sklearn.ensemble.GradientBoostingClassifier.html) и [GradientBoostingRegressor](http://scikit-learn.org/stable/modules/generated/sklearn.ensemble.GradientBoostingRegressor.html). Основные параметры, которые будут интересовать нас: `n_estimators`, `learning_rate`. Иногда может быть полезен параметр `verbose` для отслеживания процесса обучения.\n",
    "\n",
    "\n",
    "Чтобы была возможность оценить качество построенной композиции на каждой итерации, у класса есть метод `staged_decision_function`. Для заданной выборки он возвращает ответ на каждой итерации.\n",
    "\n",
    "\n",
    "Помимо алгоритмов машинного обучения, в пакете `scikit-learn` представлено большое число различных инструментов. В этом задании будет предложено воспользоваться функцией `train_test_split` модуля `model_selection`. С помощью нее можно разбивать выборки случайным образом. На вход можно передать несколько выборок (с условием, что они имеют одинаковое количество строк). Пусть, например, имеются данные `X` и `y`, где `X` — это признаковое описание объектов, `y` — целевое значение. Тогда следующий код будет удобен для разбиения этих данных на обучающее и тестовое множества:\n",
    "\n",
    "```python\n",
    "X_train, X_test, y_train, y_test = train_test_split(X, y, test_size=0.33, random_state=42)\n",
    "```\n",
    "\n",
    "Обратите внимание, что при фиксированном параметре `random_state` результат разбиения можно воспроизвести.\n",
    "\n",
    "Метрика [log-loss](http://scikit-learn.org/stable/modules/generated/sklearn.metrics.log_loss.html) реализована в пакете metrics: [sklearn.metrics.log_loss](http://scikit-learn.org/stable/modules/generated/sklearn.metrics.log_loss.html). Заметим, что данная метрика предназначена для классификаторов, выдающих оценку принадлежности классу, а не бинарные ответы. И градиентный бустинг, и случайный лес умеют строить такие прогнозы — для этого нужно использовать метод `predict_proba`:\n",
    "\n",
    "```python\n",
    "pred = clf.predict_proba(X_test)\n",
    "```\n",
    "\n",
    "Метод `predict_proba` возвращает матрицу, i-й столбец которой содержит оценки принадлежности i-му классу.\n",
    "\n",
    "\n",
    "Для рисования кривых качества на обучении и контроле можно воспользоваться следующим кодом:\n",
    "\n",
    "```python\n",
    "import matplotlib.pyplot as plt\n",
    "%matplotlib inline\n",
    "plt.figure()\n",
    "plt.plot(test_loss, 'r', linewidth=2)\n",
    "plt.plot(train_loss, 'g', linewidth=2)\n",
    "plt.legend(['test', 'train'])\n",
    "```\n",
    "\n",
    "### Материалы\n",
    "\n",
    "- [Подробнее о градиентном бустинге и особенностях его применения к деревьям](https://github.com/esokolov/ml-course-hse/blob/master/2016-fall/lecture-notes/lecture09-ensembles.pdf)\n",
    "\n",
    "### Данные\n",
    "\n",
    "- В рамках данного задания мы рассмотрим датасет с конкурса [Predicting a Biological Response](https://www.kaggle.com/c/bioresponse)."
   ]
  },
  {
   "cell_type": "code",
   "execution_count": 7,
   "metadata": {},
   "outputs": [],
   "source": [
    "import pandas as pd\n",
    "import numpy as np\n",
    "from sklearn.model_selection import train_test_split\n",
    "from sklearn.ensemble import GradientBoostingClassifier as GBC\n",
    "from sklearn.metrics import log_loss\n",
    "from matplotlib import pyplot as plt\n",
    "import operator, os\n",
    "from sklearn.ensemble import RandomForestClassifier as RFC\n",
    "\n",
    "%matplotlib inline"
   ]
  },
  {
   "cell_type": "code",
   "execution_count": 4,
   "metadata": {},
   "outputs": [],
   "source": [
    "def answer(filename, *args):\n",
    "    f = open(filename, 'w')\n",
    "    s = ' '.join([str(a) for a in args])\n",
    "    f.write(s)\n",
    "    f.close()"
   ]
  },
  {
   "cell_type": "code",
   "execution_count": 5,
   "metadata": {},
   "outputs": [],
   "source": [
    "def sigma(y):\n",
    "    return 1 / (1 + np.exp(-y))"
   ]
  },
  {
   "cell_type": "code",
   "execution_count": 6,
   "metadata": {},
   "outputs": [],
   "source": [
    "def plot(train, test, name_postfix):\n",
    "    plt.figure()\n",
    "    plt.plot(train, 'r', linewidth=3)\n",
    "    plt.plot(test, 'b', linewidth=3)\n",
    "    plt.legend(['train', 'test'])\n",
    "    plt.savefig('plots/rate_' + str(name_postfix) + '.png')"
   ]
  },
  {
   "cell_type": "markdown",
   "metadata": {},
   "source": [
    "# 1\n",
    "Загрузите выборку из файла `gbm-data.csv` с помощью `pandas` и преобразуйте ее в массив `numpy` (параметр `values` у датафрейма). В первой колонке файла с данными записано, была или нет реакция. Все остальные колонки (`d1 - d1776`) содержат различные характеристики молекулы, такие как размер, форма и т.д. Разбейте выборку на обучающую и тестовую, используя функцию `train_test_split` с параметрами `test_size = 0.8` и `random_state = 241`."
   ]
  },
  {
   "cell_type": "code",
   "execution_count": 8,
   "metadata": {},
   "outputs": [],
   "source": [
    "data = pd.read_csv('gbm-data.csv')"
   ]
  },
  {
   "cell_type": "code",
   "execution_count": 9,
   "metadata": {},
   "outputs": [
    {
     "data": {
      "text/html": [
       "<div>\n",
       "<style scoped>\n",
       "    .dataframe tbody tr th:only-of-type {\n",
       "        vertical-align: middle;\n",
       "    }\n",
       "\n",
       "    .dataframe tbody tr th {\n",
       "        vertical-align: top;\n",
       "    }\n",
       "\n",
       "    .dataframe thead th {\n",
       "        text-align: right;\n",
       "    }\n",
       "</style>\n",
       "<table border=\"1\" class=\"dataframe\">\n",
       "  <thead>\n",
       "    <tr style=\"text-align: right;\">\n",
       "      <th></th>\n",
       "      <th>Activity</th>\n",
       "      <th>D1</th>\n",
       "      <th>D2</th>\n",
       "      <th>D3</th>\n",
       "      <th>D4</th>\n",
       "      <th>D5</th>\n",
       "      <th>D6</th>\n",
       "      <th>D7</th>\n",
       "      <th>D8</th>\n",
       "      <th>D9</th>\n",
       "      <th>...</th>\n",
       "      <th>D1767</th>\n",
       "      <th>D1768</th>\n",
       "      <th>D1769</th>\n",
       "      <th>D1770</th>\n",
       "      <th>D1771</th>\n",
       "      <th>D1772</th>\n",
       "      <th>D1773</th>\n",
       "      <th>D1774</th>\n",
       "      <th>D1775</th>\n",
       "      <th>D1776</th>\n",
       "    </tr>\n",
       "  </thead>\n",
       "  <tbody>\n",
       "    <tr>\n",
       "      <th>0</th>\n",
       "      <td>1</td>\n",
       "      <td>0.000000</td>\n",
       "      <td>0.497009</td>\n",
       "      <td>0.10</td>\n",
       "      <td>0.0</td>\n",
       "      <td>0.132956</td>\n",
       "      <td>0.678031</td>\n",
       "      <td>0.273166</td>\n",
       "      <td>0.585445</td>\n",
       "      <td>0.743663</td>\n",
       "      <td>...</td>\n",
       "      <td>0</td>\n",
       "      <td>0</td>\n",
       "      <td>0</td>\n",
       "      <td>0</td>\n",
       "      <td>0</td>\n",
       "      <td>0</td>\n",
       "      <td>0</td>\n",
       "      <td>0</td>\n",
       "      <td>0</td>\n",
       "      <td>0</td>\n",
       "    </tr>\n",
       "    <tr>\n",
       "      <th>1</th>\n",
       "      <td>1</td>\n",
       "      <td>0.366667</td>\n",
       "      <td>0.606291</td>\n",
       "      <td>0.05</td>\n",
       "      <td>0.0</td>\n",
       "      <td>0.111209</td>\n",
       "      <td>0.803455</td>\n",
       "      <td>0.106105</td>\n",
       "      <td>0.411754</td>\n",
       "      <td>0.836582</td>\n",
       "      <td>...</td>\n",
       "      <td>1</td>\n",
       "      <td>1</td>\n",
       "      <td>1</td>\n",
       "      <td>1</td>\n",
       "      <td>0</td>\n",
       "      <td>1</td>\n",
       "      <td>0</td>\n",
       "      <td>0</td>\n",
       "      <td>1</td>\n",
       "      <td>0</td>\n",
       "    </tr>\n",
       "    <tr>\n",
       "      <th>2</th>\n",
       "      <td>1</td>\n",
       "      <td>0.033300</td>\n",
       "      <td>0.480124</td>\n",
       "      <td>0.00</td>\n",
       "      <td>0.0</td>\n",
       "      <td>0.209791</td>\n",
       "      <td>0.610350</td>\n",
       "      <td>0.356453</td>\n",
       "      <td>0.517720</td>\n",
       "      <td>0.679051</td>\n",
       "      <td>...</td>\n",
       "      <td>0</td>\n",
       "      <td>0</td>\n",
       "      <td>0</td>\n",
       "      <td>0</td>\n",
       "      <td>0</td>\n",
       "      <td>0</td>\n",
       "      <td>0</td>\n",
       "      <td>0</td>\n",
       "      <td>0</td>\n",
       "      <td>0</td>\n",
       "    </tr>\n",
       "    <tr>\n",
       "      <th>3</th>\n",
       "      <td>1</td>\n",
       "      <td>0.000000</td>\n",
       "      <td>0.538825</td>\n",
       "      <td>0.00</td>\n",
       "      <td>0.5</td>\n",
       "      <td>0.196344</td>\n",
       "      <td>0.724230</td>\n",
       "      <td>0.235606</td>\n",
       "      <td>0.288764</td>\n",
       "      <td>0.805110</td>\n",
       "      <td>...</td>\n",
       "      <td>0</td>\n",
       "      <td>0</td>\n",
       "      <td>0</td>\n",
       "      <td>0</td>\n",
       "      <td>0</td>\n",
       "      <td>0</td>\n",
       "      <td>0</td>\n",
       "      <td>0</td>\n",
       "      <td>0</td>\n",
       "      <td>0</td>\n",
       "    </tr>\n",
       "    <tr>\n",
       "      <th>4</th>\n",
       "      <td>0</td>\n",
       "      <td>0.100000</td>\n",
       "      <td>0.517794</td>\n",
       "      <td>0.00</td>\n",
       "      <td>0.0</td>\n",
       "      <td>0.494734</td>\n",
       "      <td>0.781422</td>\n",
       "      <td>0.154361</td>\n",
       "      <td>0.303809</td>\n",
       "      <td>0.812646</td>\n",
       "      <td>...</td>\n",
       "      <td>0</td>\n",
       "      <td>0</td>\n",
       "      <td>0</td>\n",
       "      <td>0</td>\n",
       "      <td>0</td>\n",
       "      <td>0</td>\n",
       "      <td>0</td>\n",
       "      <td>0</td>\n",
       "      <td>0</td>\n",
       "      <td>0</td>\n",
       "    </tr>\n",
       "  </tbody>\n",
       "</table>\n",
       "<p>5 rows × 1777 columns</p>\n",
       "</div>"
      ],
      "text/plain": [
       "   Activity        D1        D2    D3   D4        D5        D6        D7  \\\n",
       "0         1  0.000000  0.497009  0.10  0.0  0.132956  0.678031  0.273166   \n",
       "1         1  0.366667  0.606291  0.05  0.0  0.111209  0.803455  0.106105   \n",
       "2         1  0.033300  0.480124  0.00  0.0  0.209791  0.610350  0.356453   \n",
       "3         1  0.000000  0.538825  0.00  0.5  0.196344  0.724230  0.235606   \n",
       "4         0  0.100000  0.517794  0.00  0.0  0.494734  0.781422  0.154361   \n",
       "\n",
       "         D8        D9  ...    D1767  D1768  D1769  D1770  D1771  D1772  D1773  \\\n",
       "0  0.585445  0.743663  ...        0      0      0      0      0      0      0   \n",
       "1  0.411754  0.836582  ...        1      1      1      1      0      1      0   \n",
       "2  0.517720  0.679051  ...        0      0      0      0      0      0      0   \n",
       "3  0.288764  0.805110  ...        0      0      0      0      0      0      0   \n",
       "4  0.303809  0.812646  ...        0      0      0      0      0      0      0   \n",
       "\n",
       "   D1774  D1775  D1776  \n",
       "0      0      0      0  \n",
       "1      0      1      0  \n",
       "2      0      0      0  \n",
       "3      0      0      0  \n",
       "4      0      0      0  \n",
       "\n",
       "[5 rows x 1777 columns]"
      ]
     },
     "execution_count": 9,
     "metadata": {},
     "output_type": "execute_result"
    }
   ],
   "source": [
    "data.head()"
   ]
  },
  {
   "cell_type": "code",
   "execution_count": 10,
   "metadata": {},
   "outputs": [
    {
     "name": "stdout",
     "output_type": "stream",
     "text": [
      "<class 'pandas.core.frame.DataFrame'>\n",
      "RangeIndex: 3751 entries, 0 to 3750\n",
      "Columns: 1777 entries, Activity to D1776\n",
      "dtypes: float64(942), int64(835)\n",
      "memory usage: 50.9 MB\n"
     ]
    }
   ],
   "source": [
    "data.info()"
   ]
  },
  {
   "cell_type": "code",
   "execution_count": 12,
   "metadata": {},
   "outputs": [],
   "source": [
    "X = data.iloc[:, 1:].values\n",
    "y = data.iloc[:, 0].values"
   ]
  },
  {
   "cell_type": "code",
   "execution_count": 13,
   "metadata": {},
   "outputs": [
    {
     "data": {
      "text/plain": [
       "array([1, 1, 1, 1, 0])"
      ]
     },
     "execution_count": 13,
     "metadata": {},
     "output_type": "execute_result"
    }
   ],
   "source": [
    "y[:5]"
   ]
  },
  {
   "cell_type": "code",
   "execution_count": 14,
   "metadata": {},
   "outputs": [],
   "source": [
    "X_train, X_test, y_train, y_test = train_test_split(X, y, test_size=0.8, random_state=241)"
   ]
  },
  {
   "cell_type": "code",
   "execution_count": 15,
   "metadata": {},
   "outputs": [
    {
     "name": "stdout",
     "output_type": "stream",
     "text": [
      "X_train:  (750, 1776)\n",
      "X_test:  (3001, 1776)\n",
      "y_train:  (750,)\n",
      "y_test:  (3001,)\n"
     ]
    }
   ],
   "source": [
    "print('X_train: ', X_train.shape)\n",
    "print('X_test: ', X_test.shape)\n",
    "print('y_train: ', y_train.shape)\n",
    "print('y_test: ', y_test.shape)"
   ]
  },
  {
   "cell_type": "code",
   "execution_count": 16,
   "metadata": {},
   "outputs": [],
   "source": [
    "PLOT_DIR = 'plots'\n",
    "if not os.path.exists(PLOT_DIR):\n",
    "    os.makedirs(PLOT_DIR)"
   ]
  },
  {
   "cell_type": "markdown",
   "metadata": {},
   "source": [
    "# 2\n",
    "Обучите `GradientBoostingClassifier` с параметрами `n_estimators=250`, `verbose=True`, `random_state=241` и для каждого значения `learning_rate` из списка `[1, 0.5, 0.3, 0.2, 0.1]` проделайте следующее:\n",
    "\n",
    "- Используйте метод `staged_decision_function` для предсказания качества на обучающей и тестовой выборке на каждой итерации.\n",
    "- Преобразуйте полученное предсказание с помощью сигмоидной функции по формуле `1 / (1 + e^{−y_pred})`, где `y_pred` — предсказанное значение.\n",
    "- Вычислите и постройте график значений `log-loss` (которую можно посчитать с помощью функции `sklearn.metrics.log_loss`) на обучающей и тестовой выборках, а также найдите минимальное значение метрики и номер итерации, на которой оно достигается.\n",
    "\n",
    "# 3\n",
    "Как можно охарактеризовать график качества на тестовой выборке, начиная с некоторой итерации: переобучение (overfitting) или недообучение (underfitting)? В ответе укажите одно из слов overfitting либо underfitting.\n",
    "\n",
    "# 4\n",
    "Приведите минимальное значение log-loss на тестовой выборке и номер итерации, на котором оно достигается, при learning_rate = 0.2."
   ]
  },
  {
   "cell_type": "code",
   "execution_count": 22,
   "metadata": {},
   "outputs": [
    {
     "name": "stdout",
     "output_type": "stream",
     "text": [
      "      Iter       Train Loss   Remaining Time \n",
      "         1           1.0190           17.84s\n",
      "         2           0.9192           17.72s\n",
      "         3           0.8272           17.39s\n",
      "         4           0.7834           17.20s\n",
      "         5           0.7109           16.90s\n",
      "         6           0.6368           16.78s\n",
      "         7           0.5797           16.92s\n",
      "         8           0.5610           16.45s\n",
      "         9           0.5185           16.50s\n",
      "        10           0.4984           16.55s\n",
      "        20           0.1999           15.99s\n",
      "        30           0.1313           15.02s\n",
      "        40           0.0790           14.96s\n",
      "        50           0.0511           14.28s\n",
      "        60           0.0352           13.50s\n",
      "        70           0.0245           12.80s\n",
      "        80           0.0162           12.21s\n",
      "        90           0.0114           11.48s\n",
      "       100           0.0077           10.66s\n",
      "       200           0.0004            3.23s\n",
      "      Iter       Train Loss   Remaining Time \n",
      "         1           1.1255           20.18s\n",
      "         2           1.0035           20.15s\n",
      "         3           0.9386           19.87s\n",
      "         4           0.8844           19.41s\n",
      "         5           0.8381           18.96s\n",
      "         6           0.7995           18.97s\n",
      "         7           0.7559           19.64s\n",
      "         8           0.7205           19.69s\n",
      "         9           0.6958           19.51s\n",
      "        10           0.6725           21.50s\n",
      "        20           0.4672           20.45s\n",
      "        30           0.3179           18.02s\n",
      "        40           0.2274           16.16s\n",
      "        50           0.1774           14.84s\n",
      "        60           0.1394           13.78s\n",
      "        70           0.1050           12.86s\n",
      "        80           0.0805           11.98s\n",
      "        90           0.0650           11.13s\n",
      "       100           0.0511           10.36s\n",
      "       200           0.0058            3.30s\n",
      "      Iter       Train Loss   Remaining Time \n",
      "         1           1.2095           24.46s\n",
      "         2           1.1006           23.91s\n",
      "         3           1.0240           22.77s\n",
      "         4           0.9729           21.76s\n",
      "         5           0.9387           20.88s\n",
      "         6           0.8948           20.41s\n",
      "         7           0.8621           19.93s\n",
      "         8           0.8360           19.55s\n",
      "         9           0.8171           19.19s\n",
      "        10           0.7883           18.76s\n",
      "        20           0.6164           16.72s\n",
      "        30           0.4933           17.76s\n",
      "        40           0.4248           17.23s\n",
      "        50           0.3345           15.83s\n",
      "        60           0.2760           14.55s\n",
      "        70           0.2263           13.54s\n",
      "        80           0.1971           12.63s\n",
      "        90           0.1693           11.71s\n",
      "       100           0.1388           10.88s\n",
      "       200           0.0294            3.43s\n",
      "      Iter       Train Loss   Remaining Time \n",
      "         1           1.2613           16.92s\n",
      "         2           1.1715           16.50s\n",
      "         3           1.1009           16.64s\n",
      "         4           1.0529           17.26s\n",
      "         5           1.0130           17.20s\n",
      "         6           0.9740           17.08s\n",
      "         7           0.9475           16.67s\n",
      "         8           0.9197           16.85s\n",
      "         9           0.8979           16.63s\n",
      "        10           0.8730           16.51s\n",
      "        20           0.7207           15.15s\n",
      "        30           0.6055           14.23s\n",
      "        40           0.5244           13.46s\n",
      "        50           0.4501           12.73s\n",
      "        60           0.3908           12.08s\n",
      "        70           0.3372           11.50s\n",
      "        80           0.3009           10.83s\n",
      "        90           0.2603           10.20s\n",
      "       100           0.2327            9.57s\n",
      "       200           0.0835            3.30s\n",
      "      Iter       Train Loss   Remaining Time \n",
      "         1           1.3199           16.78s\n",
      "         2           1.2645           16.84s\n",
      "         3           1.2170           16.89s\n",
      "         4           1.1775           17.45s\n",
      "         5           1.1404           17.48s\n",
      "         6           1.1106           18.26s\n",
      "         7           1.0844           19.31s\n",
      "         8           1.0617           20.63s\n",
      "         9           1.0411           20.30s\n",
      "        10           1.0223           19.83s\n",
      "        20           0.8864           18.02s\n",
      "        30           0.7844           16.22s\n",
      "        40           0.7176           14.88s\n",
      "        50           0.6590           13.79s\n",
      "        60           0.6120           12.91s\n",
      "        70           0.5599           12.11s\n",
      "        80           0.5242           11.34s\n",
      "        90           0.4829           10.60s\n",
      "       100           0.4473            9.87s\n",
      "       200           0.2379            3.18s\n"
     ]
    },
    {
     "data": {
      "image/png": "[encoded data removed]",
      "text/plain": [
       "<matplotlib.figure.Figure at 0x1a174bba20>"
      ]
     },
     "metadata": {},
     "output_type": "display_data"
    },
    {
     "data": {
      "image/png": "[encoded data removed]",
      "text/plain": [
       "<matplotlib.figure.Figure at 0x1a174c9940>"
      ]
     },
     "metadata": {},
     "output_type": "display_data"
    },
    {
     "data": {
      "image/png": "[encoded data removed]",
      "text/plain": [
       "<matplotlib.figure.Figure at 0x1a174d0748>"
      ]
     },
     "metadata": {},
     "output_type": "display_data"
    },
    {
     "data": {
      "image/png": "[encoded data removed]",
      "text/plain": [
       "<matplotlib.figure.Figure at 0x1a18119828>"
      ]
     },
     "metadata": {},
     "output_type": "display_data"
    },
    {
     "data": {
      "image/png": "[encoded data removed]",
      "text/plain": [
       "<matplotlib.figure.Figure at 0x1a28debf60>"
      ]
     },
     "metadata": {},
     "output_type": "display_data"
    }
   ],
   "source": [
    "learning_rates = np.array([1, 0.5, 0.3, 0.2, 0.1])\n",
    "    \n",
    "for learning_rate in learning_rates:\n",
    "    clf = GBC(learning_rate=learning_rate, n_estimators=250, verbose=True, random_state=241)\n",
    "    clf.fit(X_train, y_train)\n",
    "    \n",
    "    y_pred_train = [sigma(score) for score in clf.staged_decision_function(X_train)]\n",
    "    y_pred_test = [sigma(score) for score in clf.staged_decision_function(X_test)]\n",
    "    \n",
    "    # count log_loss\n",
    "    train_loss = np.array([log_loss(y_train, y_pred) for y_pred in y_pred_train])\n",
    "    test_loss = np.array([log_loss(y_test, y_pred) for y_pred in y_pred_test])\n",
    "    \n",
    "    plot(train_loss, test_loss, learning_rate)\n",
    "    min_loss_index, min_loss = min(enumerate(test_loss), key=operator.itemgetter(1))\n",
    "    \n",
    "    # Приведите минимальное значение log-loss на тестовой выборке и номер итерации,\n",
    "    # на котором оно достигается, при learning_rate = 0.2.\n",
    "    if learning_rate == 0.2:\n",
    "        answer('submission-2.txt', min_loss, min_loss_index)\n",
    "        \n",
    "        # 3. Как можно охарактеризовать график качества на тестовой выборке,\n",
    "        # начиная с некоторой итерации: переобучение (overfitting) или\n",
    "        # недообучение (underfitting)?\n",
    "        #\n",
    "        # По графику можно видеть, что хотя на обучающей выборке качество возрастает,\n",
    "        # на тестовой выборке после примерно 50 итерации качество начинает убывать.\n",
    "        fitting = 'overfitting' if test_loss[int(3.*test_loss.size/4.) :].mean() > test_loss.mean() else 'underfitting'\n",
    "        answer('submission-1.txt', fitting)"
   ]
  },
  {
   "cell_type": "markdown",
   "metadata": {},
   "source": [
    "# 5\n",
    "На этих же данных обучите `RandomForestClassifier` с количеством деревьев, равным количеству итераций, на котором достигается наилучшее качество у градиентного бустинга из предыдущего пункта, c `random_state=241` и остальными параметрами по умолчанию. Какое значение `log-loss` на тесте получается у этого случайного леса? (Не забывайте, что предсказания нужно получать с помощью функции `predict_proba`. В данном случае брать сигмоиду от оценки вероятности класса не нужно)"
   ]
  },
  {
   "cell_type": "code",
   "execution_count": 29,
   "metadata": {},
   "outputs": [
    {
     "name": "stdout",
     "output_type": "stream",
     "text": [
      "0.538873466003\n"
     ]
    }
   ],
   "source": [
    "forest = RFC(n_estimators=min_loss_index, random_state=241)\n",
    "forest.fit(X_train, y_train)\n",
    "\n",
    "y_forest = forest.predict_proba(X_test)\n",
    "forest_loss = log_loss(y_test, y_forest)\n",
    "\n",
    "print(forest_loss)\n",
    "answer('submission-3.txt', forest_loss)"
   ]
  }
 ],
 "metadata": {
  "kernelspec": {
   "display_name": "Python 3",
   "language": "python",
   "name": "python3"
  },
  "language_info": {
   "codemirror_mode": {
    "name": "ipython",
    "version": 3
   },
   "file_extension": ".py",
   "mimetype": "text/x-python",
   "name": "python",
   "nbconvert_exporter": "python",
   "pygments_lexer": "ipython3",
   "version": "3.5.4"
  }
 },
 "nbformat": 4,
 "nbformat_minor": 2
}
